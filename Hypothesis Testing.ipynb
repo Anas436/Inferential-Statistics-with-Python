{
 "cells": [
  {
   "cell_type": "markdown",
   "metadata": {},
   "source": [
    "In business there are so many decisions has to be made everyday, instead of making them by hunch, doing experiments and creating hypothesis is more data centric approach of taking decisions in business."
   ]
  },
  {
   "cell_type": "markdown",
   "metadata": {},
   "source": [
    "# Hypothesis Testing"
   ]
  },
  {
   "cell_type": "markdown",
   "metadata": {},
   "source": [
    "- Hypothesis is a mechanism for taking decision in inferential statistics. It helps on proving or desprove the claims which are being tested\n",
    "- Hypothesis testing also helps to create structure of the problem statement\n",
    "- The process provide conclusive evidence to take decisions based on the given output from this method\n"
   ]
  },
  {
   "cell_type": "markdown",
   "metadata": {},
   "source": [
    "Statistical Hypothesis: When a researcher already has an idea about the outcome, even before doing the experiment. The Statistical hypothesis provides standard structural framework to work on the problem and make a data centric decision.\n",
    "\n",
    "Statistical Hypothesis consists of 2 parts:\n",
    " \n",
    "1. Null Hypothesis    $H_{o}$\n",
    "2. Alternative Hypothesis  $H_{a}$\n",
    "\n",
    "The Null hypothesis states 'NUll' condition exists, meaning the statement that has been said is happening, nothing new happening, old beliefs are true.\n",
    "\n",
    "The Alternative hypothesis states, the new theory is true, or something new is happening, old beliefs are not true."
   ]
  },
  {
   "cell_type": "markdown",
   "metadata": {},
   "source": [
    "## Example:\n",
    "\n",
    "Census of Height"
   ]
  },
  {
   "cell_type": "markdown",
   "metadata": {},
   "source": [
    "$H_{o} = 160$\n",
    "\n",
    "$H_{a} \\ne 160$"
   ]
  },
  {
   "cell_type": "markdown",
   "metadata": {},
   "source": [
    "In general if any new thing is to be proposed, it is defined in ALternative hypothesis"
   ]
  },
  {
   "cell_type": "markdown",
   "metadata": {},
   "source": [
    "Example of Fish farm "
   ]
  },
  {
   "cell_type": "markdown",
   "metadata": {},
   "source": [
    "$H_{o} \\underline< 2$\n",
    "\n",
    "$H_{a}  > 2$"
   ]
  },
  {
   "cell_type": "markdown",
   "metadata": {},
   "source": [
    "$H_{o} = 2$\n",
    "\n",
    "$H_{a}  > 2$"
   ]
  },
  {
   "cell_type": "markdown",
   "metadata": {},
   "source": [
    "## Tests of Statistical Hypothesis"
   ]
  },
  {
   "cell_type": "markdown",
   "metadata": {},
   "source": [
    "Based on few informations based on 2 examples the statistical hypothesis can be defined in 2 tests:\n",
    "1. Two tailed hypothesis:  The statments are directionless\n",
    "$$H_{o}: \\space \\space  \\mu = 163$$\n",
    "$$H_{a}: \\space \\space  \\mu \\ne 163$$\n",
    "\n",
    "this process then needs further investigation about the direction of the test\n",
    "\n",
    "2. One tailed tests:  The Hypothesis statements have  a direction\n",
    "$$H_{o}: \\space \\space  length = 2$$\n",
    "$$H_{a}: \\space \\space  length > 2$$\n",
    "\n",
    "this tests are used only when the researcher is sure about the outcome of the test would be on greater than the pre learned info"
   ]
  },
  {
   "cell_type": "markdown",
   "metadata": {},
   "source": [
    "If the Null Hypothesis is rejected and therefore Alternative hypothesis is accepted, it is said as statistically significant result has been obtained, in simpler words, the result obtained is not just luck by chance and the decision has been made to reject the NUll hypothesis.\n",
    "\n",
    "In our example 2.1 is statistically significant higher than the 2 but for business that might not be the actual significant as a result, so caution has to be taken during interpreting the outcomes of statistical tests.\n",
    "\n",
    "The outcome of the test depends on the sample in consideration, also whether a slight change is substantive outcome or not, would be completely depending on the use case or the researcher."
   ]
  },
  {
   "cell_type": "markdown",
   "metadata": {},
   "source": [
    "## Steps of Performing Test"
   ]
  },
  {
   "cell_type": "markdown",
   "metadata": {},
   "source": [
    "# Type l or Type ll Errors"
   ]
  },
  {
   "cell_type": "markdown",
   "metadata": {},
   "source": [
    "- A Type l error is committed by rejecting a true null hypothesis.\n",
    "- A Type II error is committed when a business researcher fails to reject a false null hypothesis"
   ]
  },
  {
   "cell_type": "markdown",
   "metadata": {},
   "source": [
    "Type l error ${\\alpha}$\n",
    "\n",
    "Type ll error ${\\beta}$\n",
    "\n",
    "alpha can only be committed when the null hypothesis is rejected and beta can only be committed when the null hypothesis is not rejected, a business researcher cannot commit both a Type I error and a Type II error at the same time on the same hypothesis test\n",
    "\n",
    "beta occurs only when the null hypothesis is not true, the computation of beta varies\n",
    "with the many possible alternative parameters that might occur."
   ]
  },
  {
   "cell_type": "markdown",
   "metadata": {},
   "source": [
    "## Example of Statistical method when population information is known"
   ]
  },
  {
   "cell_type": "code",
   "execution_count": 1,
   "metadata": {},
   "outputs": [],
   "source": [
    "import pandas as pd\n",
    "import numpy as np\n",
    "import math"
   ]
  },
  {
   "cell_type": "code",
   "execution_count": 2,
   "metadata": {},
   "outputs": [
    {
     "data": {
      "text/html": [
       "<div>\n",
       "<style scoped>\n",
       "    .dataframe tbody tr th:only-of-type {\n",
       "        vertical-align: middle;\n",
       "    }\n",
       "\n",
       "    .dataframe tbody tr th {\n",
       "        vertical-align: top;\n",
       "    }\n",
       "\n",
       "    .dataframe thead th {\n",
       "        text-align: right;\n",
       "    }\n",
       "</style>\n",
       "<table border=\"1\" class=\"dataframe\">\n",
       "  <thead>\n",
       "    <tr style=\"text-align: right;\">\n",
       "      <th></th>\n",
       "      <th>Heights</th>\n",
       "      <th>Gender</th>\n",
       "    </tr>\n",
       "  </thead>\n",
       "  <tbody>\n",
       "    <tr>\n",
       "      <th>0</th>\n",
       "      <td>160.377337</td>\n",
       "      <td>Male</td>\n",
       "    </tr>\n",
       "    <tr>\n",
       "      <th>1</th>\n",
       "      <td>177.637818</td>\n",
       "      <td>Male</td>\n",
       "    </tr>\n",
       "    <tr>\n",
       "      <th>2</th>\n",
       "      <td>166.258270</td>\n",
       "      <td>Male</td>\n",
       "    </tr>\n",
       "    <tr>\n",
       "      <th>3</th>\n",
       "      <td>182.467287</td>\n",
       "      <td>Male</td>\n",
       "    </tr>\n",
       "    <tr>\n",
       "      <th>4</th>\n",
       "      <td>182.368534</td>\n",
       "      <td>Male</td>\n",
       "    </tr>\n",
       "  </tbody>\n",
       "</table>\n",
       "</div>"
      ],
      "text/plain": [
       "      Heights Gender\n",
       "0  160.377337   Male\n",
       "1  177.637818   Male\n",
       "2  166.258270   Male\n",
       "3  182.467287   Male\n",
       "4  182.368534   Male"
      ]
     },
     "execution_count": 2,
     "metadata": {},
     "output_type": "execute_result"
    }
   ],
   "source": [
    "data=pd.read_csv('dataSetofHeights.csv')\n",
    "data.head()"
   ]
  },
  {
   "cell_type": "code",
   "execution_count": 3,
   "metadata": {},
   "outputs": [
    {
     "data": {
      "text/plain": [
       "168.30635473929416"
      ]
     },
     "execution_count": 3,
     "metadata": {},
     "output_type": "execute_result"
    }
   ],
   "source": [
    "data['Heights'].mean()"
   ]
  },
  {
   "cell_type": "markdown",
   "metadata": {},
   "source": [
    "$$z= \\frac{\\bar{x}-\\mu}{\\frac{\\sigma}{\\sqrt n}}$$"
   ]
  },
  {
   "cell_type": "markdown",
   "metadata": {},
   "source": [
    "$$H_{o}: \\space \\space  \\mu = 170$$\n",
    "$$H_{a}: \\space \\space  \\mu \\ne 170$$\n"
   ]
  },
  {
   "cell_type": "markdown",
   "metadata": {},
   "source": [
    "- __Step 1:__ create the hypothesis (Null and Alternate Hypothesis)\n",
    "- __Step 2:__ Appropriate statistical test\n",
    "- __Step 3:__ let set $\\alpha$ as .05  i.e Type l error\n",
    "- __Step 4:__ Get data\n",
    "- __Step 5:__ Analyze \n"
   ]
  },
  {
   "cell_type": "markdown",
   "metadata": {},
   "source": [
    "### This is a 2 Sided Test"
   ]
  },
  {
   "cell_type": "markdown",
   "metadata": {},
   "source": [
    "Value of $z$ at .05 making it .025 for 2 sided we know from $z table$  $\\underline{+}$1.96 "
   ]
  },
  {
   "cell_type": "code",
   "execution_count": 4,
   "metadata": {},
   "outputs": [
    {
     "data": {
      "text/plain": [
       "110    170.968374\n",
       "2      166.258270\n",
       "970    163.331991\n",
       "10     163.412463\n",
       "15     173.985101\n",
       "          ...    \n",
       "198    178.864754\n",
       "831    160.660881\n",
       "130    184.449508\n",
       "169    188.699714\n",
       "467    170.165105\n",
       "Name: Heights, Length: 70, dtype: float64"
      ]
     },
     "execution_count": 4,
     "metadata": {},
     "output_type": "execute_result"
    }
   ],
   "source": [
    "sampData=data['Heights'][np.argsort(np.random.random(1000))[:70]]\n",
    "sampData"
   ]
  },
  {
   "cell_type": "code",
   "execution_count": 5,
   "metadata": {},
   "outputs": [],
   "source": [
    "meanSampData=sampData.mean()\n",
    "hypMean=170\n",
    "N=70\n",
    "standPop=np.std(data['Heights'])"
   ]
  },
  {
   "cell_type": "code",
   "execution_count": 6,
   "metadata": {},
   "outputs": [
    {
     "data": {
      "text/plain": [
       "-1.0981993492259645"
      ]
     },
     "execution_count": 6,
     "metadata": {},
     "output_type": "execute_result"
    }
   ],
   "source": [
    "(meanSampData-hypMean)/(standPop/math.sqrt(N))"
   ]
  },
  {
   "cell_type": "markdown",
   "metadata": {},
   "source": [
    "- as calculated z score -2.45 is less than -1.96 (tabular z score), we reject the null hypothesis\n",
    "\n",
    "- if also we would have got +2.46 is greater than +1.96 we would have rejected the Null hypothesis\n",
    "\n",
    "- Observed value = -2.45\n",
    "- Critical value = -1.96"
   ]
  },
  {
   "cell_type": "markdown",
   "metadata": {},
   "source": [
    "## We didn't made a Type l error, as the value is actually not = 170"
   ]
  },
  {
   "cell_type": "markdown",
   "metadata": {},
   "source": [
    "# p-value  (observed significance level)"
   ]
  },
  {
   "cell_type": "markdown",
   "metadata": {},
   "source": [
    "Another way to reach a statistical conclusion in hypothesis testing problems is by using the\n",
    "p-value"
   ]
  },
  {
   "cell_type": "markdown",
   "metadata": {},
   "source": [
    "The p-value defines the smallest probability ($\\alpha$) for which the null hypothesis can be rejected. \n",
    "\n",
    "let say $\\alpha = .05$\n",
    "\n",
    "- if $p \\underline{<} .05$  strong evidence against the $H_{o}$, hence reject the Null Hypothesis\n",
    "- if $p > .05$  weak evidence against the $H_{o}$, hence fail to reject the Null Hypothesis\n",
    "- if near to .05  not sure "
   ]
  },
  {
   "cell_type": "markdown",
   "metadata": {},
   "source": [
    "## Example"
   ]
  },
  {
   "cell_type": "markdown",
   "metadata": {},
   "source": [
    "- let say observed z value is 2.45= .9946\n",
    "\n",
    "- The p-value would be 1-.994 = .006\n",
    "\n",
    "- using the above info we can reject the $H_{o}$ at    $\\alpha=.05$\n",
    "- but we will fail to reject the $H_{o}$ at    $\\alpha=.001$\n",
    "\n",
    "- as .006 > .001 but <.05"
   ]
  },
  {
   "cell_type": "markdown",
   "metadata": {},
   "source": [
    "## t-test for mean estimation of population"
   ]
  },
  {
   "cell_type": "markdown",
   "metadata": {},
   "source": [
    "$$t= \\frac{\\bar{x}-\\mu}{\\frac{\\sigma}{\\sqrt n}}$$\n",
    "\n",
    "expected mean hence $\\mu$\n",
    "degree of freedom =N-1"
   ]
  },
  {
   "cell_type": "code",
   "execution_count": 7,
   "metadata": {},
   "outputs": [],
   "source": [
    "import scipy.stats as st"
   ]
  },
  {
   "cell_type": "code",
   "execution_count": 8,
   "metadata": {},
   "outputs": [
    {
     "data": {
      "text/plain": [
       "Ttest_1sampResult(statistic=-1.0781724755280162, pvalue=0.2847116385123738)"
      ]
     },
     "execution_count": 8,
     "metadata": {},
     "output_type": "execute_result"
    }
   ],
   "source": [
    "#a : array_like sample observation\n",
    "# popmean : float or array_like\n",
    "#     expected value in null hypothesis. If array_like, then it must have the\n",
    "#     same shape as `a` excluding the axis dimension\n",
    "# axis : int or None, optional\n",
    "#     Axis along which to compute test. If None, compute over the whole\n",
    "#     array `a`.\n",
    "# nan_policy : {'propagate', 'raise', 'omit'}, optional\n",
    "#     Defines how to handle when input contains nan. 'propagate' returns nan,\n",
    "#     'raise' throws an error, 'omit' performs the calculations ignoring nan\n",
    "#     values. Default is 'propagate'.\n",
    "\n",
    "\n",
    "st.ttest_1samp(sampData,170)"
   ]
  },
  {
   "cell_type": "code",
   "execution_count": 9,
   "metadata": {},
   "outputs": [
    {
     "data": {
      "text/plain": [
       "True"
      ]
     },
     "execution_count": 9,
     "metadata": {},
     "output_type": "execute_result"
    }
   ],
   "source": [
    ".021 < .05 #We reject the null hypothesis"
   ]
  },
  {
   "cell_type": "code",
   "execution_count": 10,
   "metadata": {},
   "outputs": [
    {
     "data": {
      "text/plain": [
       "Ttest_1sampResult(statistic=0.5967922554576096, pvalue=0.5525992784213449)"
      ]
     },
     "execution_count": 10,
     "metadata": {},
     "output_type": "execute_result"
    }
   ],
   "source": [
    "st.ttest_1samp(sampData,168)"
   ]
  },
  {
   "cell_type": "code",
   "execution_count": 11,
   "metadata": {},
   "outputs": [
    {
     "data": {
      "text/plain": [
       "False"
      ]
     },
     "execution_count": 11,
     "metadata": {},
     "output_type": "execute_result"
    }
   ],
   "source": [
    "0.51 < .05 #We fail to reject the null hypothesis"
   ]
  },
  {
   "cell_type": "code",
   "execution_count": 12,
   "metadata": {},
   "outputs": [
    {
     "data": {
      "text/plain": [
       "Ttest_1sampResult(statistic=-0.2406901100352033, pvalue=0.8105090309054396)"
      ]
     },
     "execution_count": 12,
     "metadata": {},
     "output_type": "execute_result"
    }
   ],
   "source": [
    "st.ttest_1samp(sampData,169)"
   ]
  },
  {
   "cell_type": "code",
   "execution_count": 13,
   "metadata": {},
   "outputs": [
    {
     "data": {
      "text/plain": [
       "False"
      ]
     },
     "execution_count": 13,
     "metadata": {},
     "output_type": "execute_result"
    }
   ],
   "source": [
    "0.78 < .05 #We fail to reject the null hypothesis"
   ]
  },
  {
   "cell_type": "code",
   "execution_count": null,
   "metadata": {},
   "outputs": [],
   "source": []
  }
 ],
 "metadata": {
  "kernelspec": {
   "display_name": "Python 3 (ipykernel)",
   "language": "python",
   "name": "python3"
  },
  "language_info": {
   "codemirror_mode": {
    "name": "ipython",
    "version": 3
   },
   "file_extension": ".py",
   "mimetype": "text/x-python",
   "name": "python",
   "nbconvert_exporter": "python",
   "pygments_lexer": "ipython3",
   "version": "3.9.13"
  }
 },
 "nbformat": 4,
 "nbformat_minor": 4
}
