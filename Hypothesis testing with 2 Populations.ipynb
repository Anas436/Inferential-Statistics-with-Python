{
 "cells": [
  {
   "cell_type": "markdown",
   "metadata": {},
   "source": [
    "## Statistical Inferences about 2 populations"
   ]
  },
  {
   "cell_type": "markdown",
   "metadata": {},
   "source": [
    "## Usecase \n",
    "- E-commerce analyst\n",
    "- Teacher "
   ]
  },
  {
   "cell_type": "markdown",
   "metadata": {},
   "source": [
    "The problems that can be solved using the approach are:\n",
    "- To estimate the difference between 2 sample mean\n",
    "- Whether ths 2 population samples comes from the same population\n",
    "- To determine whether 1 population is  < > the other population"
   ]
  },
  {
   "cell_type": "markdown",
   "metadata": {},
   "source": [
    "## The central limit theorem"
   ]
  },
  {
   "cell_type": "markdown",
   "metadata": {},
   "source": [
    "The central limit theorem states that the differences in 2 sample mean is normally distributed for larger sample size. Regardles of the population distribution"
   ]
  },
  {
   "cell_type": "markdown",
   "metadata": {},
   "source": [
    "## $$\\mu_(\\bar{x_{1}}-\\bar{x_{2}}) = \\mu_{1}- \\mu_{2}$$  "
   ]
  },
  {
   "cell_type": "markdown",
   "metadata": {},
   "source": [
    "## If the population variance is known, z formula would be"
   ]
  },
  {
   "cell_type": "markdown",
   "metadata": {},
   "source": [
    "## $$z = \\frac{(\\bar{x_{1}}-\\bar{x_{2}})-(\\mu_{1}-\\mu_{2})}{\\sqrt(\\frac{\\sigma^2}{n1}+\\frac{\\sigma^2}{n2})}$$"
   ]
  },
  {
   "cell_type": "markdown",
   "metadata": {},
   "source": [
    "## Hypothesis Formulation"
   ]
  },
  {
   "cell_type": "markdown",
   "metadata": {},
   "source": [
    "Example 1: where the analyst wanted to check whether mean of the 2 category sales are different"
   ]
  },
  {
   "cell_type": "markdown",
   "metadata": {},
   "source": [
    "$$H_{o} => \\mu_{1} = \\mu_{2}$$\n",
    "$$H_{a} => \\mu_{1} \\ne \\mu_{2}$$"
   ]
  },
  {
   "cell_type": "markdown",
   "metadata": {},
   "source": [
    "but the other way to look at this hypothesis through a statistitian "
   ]
  },
  {
   "cell_type": "markdown",
   "metadata": {},
   "source": [
    "$$H_{o} => \\mu_{1} - \\mu_{2} = \\delta$$\n",
    "$$H_{a} => \\mu_{1} - \\mu_{2} \\ne \\delta$$"
   ]
  },
  {
   "cell_type": "markdown",
   "metadata": {},
   "source": [
    "Most of the time analyst would only be interested to know if there is any change or diff"
   ]
  },
  {
   "cell_type": "markdown",
   "metadata": {},
   "source": [
    "$H_{o} => \\mu_{1} - \\mu_{2} = 0$   #mean are same\n",
    "\n",
    "$H_{a} => \\mu_{1} - \\mu_{2} \\ne 0$  #mean are not same"
   ]
  },
  {
   "cell_type": "markdown",
   "metadata": {},
   "source": [
    "## Confidence Interval"
   ]
  },
  {
   "cell_type": "markdown",
   "metadata": {},
   "source": [
    "But by how much of difference whether positive or negative to get this info we look into confidence interval approach"
   ]
  },
  {
   "cell_type": "markdown",
   "metadata": {},
   "source": [
    "### $$(\\bar{x_{1}}-\\bar{x_{2}}) -z(\\sqrt(\\frac{\\sigma^2}{n1}+\\frac{\\sigma^2}{n2}) \\space\\space\\space \\underline{<} \\mu_{1}-\\mu_{2} \\space\\space\\space\\space \\underline{<} \\space\\space\\space (\\bar{x_{1}}-\\bar{x_{2}}) +z(\\sqrt(\\frac{\\sigma^2}{n1}+\\frac{\\sigma^2}{n2})$$"
   ]
  },
  {
   "cell_type": "markdown",
   "metadata": {},
   "source": [
    "## Examples"
   ]
  },
  {
   "cell_type": "code",
   "execution_count": 1,
   "metadata": {},
   "outputs": [],
   "source": [
    "import pandas as pd\n",
    "import numpy as np"
   ]
  },
  {
   "cell_type": "code",
   "execution_count": 2,
   "metadata": {},
   "outputs": [
    {
     "data": {
      "text/html": [
       "<div>\n",
       "<style scoped>\n",
       "    .dataframe tbody tr th:only-of-type {\n",
       "        vertical-align: middle;\n",
       "    }\n",
       "\n",
       "    .dataframe tbody tr th {\n",
       "        vertical-align: top;\n",
       "    }\n",
       "\n",
       "    .dataframe thead th {\n",
       "        text-align: right;\n",
       "    }\n",
       "</style>\n",
       "<table border=\"1\" class=\"dataframe\">\n",
       "  <thead>\n",
       "    <tr style=\"text-align: right;\">\n",
       "      <th></th>\n",
       "      <th>Row ID</th>\n",
       "      <th>Order ID</th>\n",
       "      <th>Order Date</th>\n",
       "      <th>Ship Date</th>\n",
       "      <th>Ship Mode</th>\n",
       "      <th>Customer ID</th>\n",
       "      <th>Customer Name</th>\n",
       "      <th>Segment</th>\n",
       "      <th>Country</th>\n",
       "      <th>City</th>\n",
       "      <th>...</th>\n",
       "      <th>Postal Code</th>\n",
       "      <th>Region</th>\n",
       "      <th>Product ID</th>\n",
       "      <th>Category</th>\n",
       "      <th>Sub-Category</th>\n",
       "      <th>Product Name</th>\n",
       "      <th>Sales</th>\n",
       "      <th>Quantity</th>\n",
       "      <th>Discount</th>\n",
       "      <th>Profit</th>\n",
       "    </tr>\n",
       "  </thead>\n",
       "  <tbody>\n",
       "    <tr>\n",
       "      <th>0</th>\n",
       "      <td>1</td>\n",
       "      <td>CA-2016-152156</td>\n",
       "      <td>2016-11-08</td>\n",
       "      <td>2016-11-11</td>\n",
       "      <td>Second Class</td>\n",
       "      <td>CG-12520</td>\n",
       "      <td>Claire Gute</td>\n",
       "      <td>Consumer</td>\n",
       "      <td>United States</td>\n",
       "      <td>Henderson</td>\n",
       "      <td>...</td>\n",
       "      <td>42420</td>\n",
       "      <td>South</td>\n",
       "      <td>FUR-BO-10001798</td>\n",
       "      <td>Furniture</td>\n",
       "      <td>Bookcases</td>\n",
       "      <td>Bush Somerset Collection Bookcase</td>\n",
       "      <td>261.9600</td>\n",
       "      <td>2</td>\n",
       "      <td>0.00</td>\n",
       "      <td>41.9136</td>\n",
       "    </tr>\n",
       "    <tr>\n",
       "      <th>1</th>\n",
       "      <td>2</td>\n",
       "      <td>CA-2016-152156</td>\n",
       "      <td>2016-11-08</td>\n",
       "      <td>2016-11-11</td>\n",
       "      <td>Second Class</td>\n",
       "      <td>CG-12520</td>\n",
       "      <td>Claire Gute</td>\n",
       "      <td>Consumer</td>\n",
       "      <td>United States</td>\n",
       "      <td>Henderson</td>\n",
       "      <td>...</td>\n",
       "      <td>42420</td>\n",
       "      <td>South</td>\n",
       "      <td>FUR-CH-10000454</td>\n",
       "      <td>Furniture</td>\n",
       "      <td>Chairs</td>\n",
       "      <td>Hon Deluxe Fabric Upholstered Stacking Chairs,...</td>\n",
       "      <td>731.9400</td>\n",
       "      <td>3</td>\n",
       "      <td>0.00</td>\n",
       "      <td>219.5820</td>\n",
       "    </tr>\n",
       "    <tr>\n",
       "      <th>2</th>\n",
       "      <td>3</td>\n",
       "      <td>CA-2016-138688</td>\n",
       "      <td>2016-06-12</td>\n",
       "      <td>2016-06-16</td>\n",
       "      <td>Second Class</td>\n",
       "      <td>DV-13045</td>\n",
       "      <td>Darrin Van Huff</td>\n",
       "      <td>Corporate</td>\n",
       "      <td>United States</td>\n",
       "      <td>Los Angeles</td>\n",
       "      <td>...</td>\n",
       "      <td>90036</td>\n",
       "      <td>West</td>\n",
       "      <td>OFF-LA-10000240</td>\n",
       "      <td>Office Supplies</td>\n",
       "      <td>Labels</td>\n",
       "      <td>Self-Adhesive Address Labels for Typewriters b...</td>\n",
       "      <td>14.6200</td>\n",
       "      <td>2</td>\n",
       "      <td>0.00</td>\n",
       "      <td>6.8714</td>\n",
       "    </tr>\n",
       "    <tr>\n",
       "      <th>3</th>\n",
       "      <td>4</td>\n",
       "      <td>US-2015-108966</td>\n",
       "      <td>2015-10-11</td>\n",
       "      <td>2015-10-18</td>\n",
       "      <td>Standard Class</td>\n",
       "      <td>SO-20335</td>\n",
       "      <td>Sean O'Donnell</td>\n",
       "      <td>Consumer</td>\n",
       "      <td>United States</td>\n",
       "      <td>Fort Lauderdale</td>\n",
       "      <td>...</td>\n",
       "      <td>33311</td>\n",
       "      <td>South</td>\n",
       "      <td>FUR-TA-10000577</td>\n",
       "      <td>Furniture</td>\n",
       "      <td>Tables</td>\n",
       "      <td>Bretford CR4500 Series Slim Rectangular Table</td>\n",
       "      <td>957.5775</td>\n",
       "      <td>5</td>\n",
       "      <td>0.45</td>\n",
       "      <td>-383.0310</td>\n",
       "    </tr>\n",
       "    <tr>\n",
       "      <th>4</th>\n",
       "      <td>5</td>\n",
       "      <td>US-2015-108966</td>\n",
       "      <td>2015-10-11</td>\n",
       "      <td>2015-10-18</td>\n",
       "      <td>Standard Class</td>\n",
       "      <td>SO-20335</td>\n",
       "      <td>Sean O'Donnell</td>\n",
       "      <td>Consumer</td>\n",
       "      <td>United States</td>\n",
       "      <td>Fort Lauderdale</td>\n",
       "      <td>...</td>\n",
       "      <td>33311</td>\n",
       "      <td>South</td>\n",
       "      <td>OFF-ST-10000760</td>\n",
       "      <td>Office Supplies</td>\n",
       "      <td>Storage</td>\n",
       "      <td>Eldon Fold 'N Roll Cart System</td>\n",
       "      <td>22.3680</td>\n",
       "      <td>2</td>\n",
       "      <td>0.20</td>\n",
       "      <td>2.5164</td>\n",
       "    </tr>\n",
       "  </tbody>\n",
       "</table>\n",
       "<p>5 rows × 21 columns</p>\n",
       "</div>"
      ],
      "text/plain": [
       "   Row ID        Order ID Order Date  Ship Date       Ship Mode Customer ID  \\\n",
       "0       1  CA-2016-152156 2016-11-08 2016-11-11    Second Class    CG-12520   \n",
       "1       2  CA-2016-152156 2016-11-08 2016-11-11    Second Class    CG-12520   \n",
       "2       3  CA-2016-138688 2016-06-12 2016-06-16    Second Class    DV-13045   \n",
       "3       4  US-2015-108966 2015-10-11 2015-10-18  Standard Class    SO-20335   \n",
       "4       5  US-2015-108966 2015-10-11 2015-10-18  Standard Class    SO-20335   \n",
       "\n",
       "     Customer Name    Segment        Country             City  ...  \\\n",
       "0      Claire Gute   Consumer  United States        Henderson  ...   \n",
       "1      Claire Gute   Consumer  United States        Henderson  ...   \n",
       "2  Darrin Van Huff  Corporate  United States      Los Angeles  ...   \n",
       "3   Sean O'Donnell   Consumer  United States  Fort Lauderdale  ...   \n",
       "4   Sean O'Donnell   Consumer  United States  Fort Lauderdale  ...   \n",
       "\n",
       "  Postal Code  Region       Product ID         Category Sub-Category  \\\n",
       "0       42420   South  FUR-BO-10001798        Furniture    Bookcases   \n",
       "1       42420   South  FUR-CH-10000454        Furniture       Chairs   \n",
       "2       90036    West  OFF-LA-10000240  Office Supplies       Labels   \n",
       "3       33311   South  FUR-TA-10000577        Furniture       Tables   \n",
       "4       33311   South  OFF-ST-10000760  Office Supplies      Storage   \n",
       "\n",
       "                                        Product Name     Sales  Quantity  \\\n",
       "0                  Bush Somerset Collection Bookcase  261.9600         2   \n",
       "1  Hon Deluxe Fabric Upholstered Stacking Chairs,...  731.9400         3   \n",
       "2  Self-Adhesive Address Labels for Typewriters b...   14.6200         2   \n",
       "3      Bretford CR4500 Series Slim Rectangular Table  957.5775         5   \n",
       "4                     Eldon Fold 'N Roll Cart System   22.3680         2   \n",
       "\n",
       "   Discount    Profit  \n",
       "0      0.00   41.9136  \n",
       "1      0.00  219.5820  \n",
       "2      0.00    6.8714  \n",
       "3      0.45 -383.0310  \n",
       "4      0.20    2.5164  \n",
       "\n",
       "[5 rows x 21 columns]"
      ]
     },
     "execution_count": 2,
     "metadata": {},
     "output_type": "execute_result"
    }
   ],
   "source": [
    "data=pd.read_excel(\"Sample - Superstore.xls\")\n",
    "data.head()"
   ]
  },
  {
   "cell_type": "code",
   "execution_count": 3,
   "metadata": {},
   "outputs": [
    {
     "data": {
      "text/plain": [
       "Index(['Row ID', 'Order ID', 'Order Date', 'Ship Date', 'Ship Mode',\n",
       "       'Customer ID', 'Customer Name', 'Segment', 'Country', 'City', 'State',\n",
       "       'Postal Code', 'Region', 'Product ID', 'Category', 'Sub-Category',\n",
       "       'Product Name', 'Sales', 'Quantity', 'Discount', 'Profit'],\n",
       "      dtype='object')"
      ]
     },
     "execution_count": 3,
     "metadata": {},
     "output_type": "execute_result"
    }
   ],
   "source": [
    "data.columns"
   ]
  },
  {
   "cell_type": "code",
   "execution_count": 4,
   "metadata": {
    "scrolled": true
   },
   "outputs": [
    {
     "data": {
      "text/html": [
       "<div>\n",
       "<style scoped>\n",
       "    .dataframe tbody tr th:only-of-type {\n",
       "        vertical-align: middle;\n",
       "    }\n",
       "\n",
       "    .dataframe tbody tr th {\n",
       "        vertical-align: top;\n",
       "    }\n",
       "\n",
       "    .dataframe thead th {\n",
       "        text-align: right;\n",
       "    }\n",
       "</style>\n",
       "<table border=\"1\" class=\"dataframe\">\n",
       "  <thead>\n",
       "    <tr style=\"text-align: right;\">\n",
       "      <th></th>\n",
       "      <th>Sales</th>\n",
       "    </tr>\n",
       "    <tr>\n",
       "      <th>Sub-Category</th>\n",
       "      <th></th>\n",
       "    </tr>\n",
       "  </thead>\n",
       "  <tbody>\n",
       "    <tr>\n",
       "      <th>Accessories</th>\n",
       "      <td>215.974604</td>\n",
       "    </tr>\n",
       "    <tr>\n",
       "      <th>Appliances</th>\n",
       "      <td>230.755710</td>\n",
       "    </tr>\n",
       "    <tr>\n",
       "      <th>Art</th>\n",
       "      <td>34.068834</td>\n",
       "    </tr>\n",
       "    <tr>\n",
       "      <th>Binders</th>\n",
       "      <td>133.560560</td>\n",
       "    </tr>\n",
       "    <tr>\n",
       "      <th>Bookcases</th>\n",
       "      <td>503.859633</td>\n",
       "    </tr>\n",
       "    <tr>\n",
       "      <th>Chairs</th>\n",
       "      <td>532.332420</td>\n",
       "    </tr>\n",
       "    <tr>\n",
       "      <th>Copiers</th>\n",
       "      <td>2198.941618</td>\n",
       "    </tr>\n",
       "    <tr>\n",
       "      <th>Envelopes</th>\n",
       "      <td>64.867724</td>\n",
       "    </tr>\n",
       "    <tr>\n",
       "      <th>Fasteners</th>\n",
       "      <td>13.936774</td>\n",
       "    </tr>\n",
       "    <tr>\n",
       "      <th>Furnishings</th>\n",
       "      <td>95.825668</td>\n",
       "    </tr>\n",
       "    <tr>\n",
       "      <th>Labels</th>\n",
       "      <td>34.303055</td>\n",
       "    </tr>\n",
       "    <tr>\n",
       "      <th>Machines</th>\n",
       "      <td>1645.553313</td>\n",
       "    </tr>\n",
       "    <tr>\n",
       "      <th>Paper</th>\n",
       "      <td>57.284092</td>\n",
       "    </tr>\n",
       "    <tr>\n",
       "      <th>Phones</th>\n",
       "      <td>371.211534</td>\n",
       "    </tr>\n",
       "    <tr>\n",
       "      <th>Storage</th>\n",
       "      <td>264.590553</td>\n",
       "    </tr>\n",
       "    <tr>\n",
       "      <th>Supplies</th>\n",
       "      <td>245.650200</td>\n",
       "    </tr>\n",
       "    <tr>\n",
       "      <th>Tables</th>\n",
       "      <td>648.794771</td>\n",
       "    </tr>\n",
       "  </tbody>\n",
       "</table>\n",
       "</div>"
      ],
      "text/plain": [
       "                    Sales\n",
       "Sub-Category             \n",
       "Accessories    215.974604\n",
       "Appliances     230.755710\n",
       "Art             34.068834\n",
       "Binders        133.560560\n",
       "Bookcases      503.859633\n",
       "Chairs         532.332420\n",
       "Copiers       2198.941618\n",
       "Envelopes       64.867724\n",
       "Fasteners       13.936774\n",
       "Furnishings     95.825668\n",
       "Labels          34.303055\n",
       "Machines      1645.553313\n",
       "Paper           57.284092\n",
       "Phones         371.211534\n",
       "Storage        264.590553\n",
       "Supplies       245.650200\n",
       "Tables         648.794771"
      ]
     },
     "execution_count": 4,
     "metadata": {},
     "output_type": "execute_result"
    }
   ],
   "source": [
    "pd.pivot_table(data,index=['Sub-Category'],values='Sales',aggfunc='mean')"
   ]
  },
  {
   "cell_type": "code",
   "execution_count": 5,
   "metadata": {
    "scrolled": true
   },
   "outputs": [
    {
     "data": {
      "text/html": [
       "<div>\n",
       "<style scoped>\n",
       "    .dataframe tbody tr th:only-of-type {\n",
       "        vertical-align: middle;\n",
       "    }\n",
       "\n",
       "    .dataframe tbody tr th {\n",
       "        vertical-align: top;\n",
       "    }\n",
       "\n",
       "    .dataframe thead th {\n",
       "        text-align: right;\n",
       "    }\n",
       "</style>\n",
       "<table border=\"1\" class=\"dataframe\">\n",
       "  <thead>\n",
       "    <tr style=\"text-align: right;\">\n",
       "      <th></th>\n",
       "      <th>Sales</th>\n",
       "      <th>Profit</th>\n",
       "    </tr>\n",
       "    <tr>\n",
       "      <th>Sub-Category</th>\n",
       "      <th></th>\n",
       "      <th></th>\n",
       "    </tr>\n",
       "  </thead>\n",
       "  <tbody>\n",
       "    <tr>\n",
       "      <th>Accessories</th>\n",
       "      <td>215.974604</td>\n",
       "      <td>775</td>\n",
       "    </tr>\n",
       "    <tr>\n",
       "      <th>Appliances</th>\n",
       "      <td>230.755710</td>\n",
       "      <td>466</td>\n",
       "    </tr>\n",
       "    <tr>\n",
       "      <th>Art</th>\n",
       "      <td>34.068834</td>\n",
       "      <td>796</td>\n",
       "    </tr>\n",
       "    <tr>\n",
       "      <th>Binders</th>\n",
       "      <td>133.560560</td>\n",
       "      <td>1523</td>\n",
       "    </tr>\n",
       "    <tr>\n",
       "      <th>Bookcases</th>\n",
       "      <td>503.859633</td>\n",
       "      <td>228</td>\n",
       "    </tr>\n",
       "    <tr>\n",
       "      <th>Chairs</th>\n",
       "      <td>532.332420</td>\n",
       "      <td>617</td>\n",
       "    </tr>\n",
       "    <tr>\n",
       "      <th>Copiers</th>\n",
       "      <td>2198.941618</td>\n",
       "      <td>68</td>\n",
       "    </tr>\n",
       "    <tr>\n",
       "      <th>Envelopes</th>\n",
       "      <td>64.867724</td>\n",
       "      <td>254</td>\n",
       "    </tr>\n",
       "    <tr>\n",
       "      <th>Fasteners</th>\n",
       "      <td>13.936774</td>\n",
       "      <td>217</td>\n",
       "    </tr>\n",
       "    <tr>\n",
       "      <th>Furnishings</th>\n",
       "      <td>95.825668</td>\n",
       "      <td>957</td>\n",
       "    </tr>\n",
       "    <tr>\n",
       "      <th>Labels</th>\n",
       "      <td>34.303055</td>\n",
       "      <td>364</td>\n",
       "    </tr>\n",
       "    <tr>\n",
       "      <th>Machines</th>\n",
       "      <td>1645.553313</td>\n",
       "      <td>115</td>\n",
       "    </tr>\n",
       "    <tr>\n",
       "      <th>Paper</th>\n",
       "      <td>57.284092</td>\n",
       "      <td>1370</td>\n",
       "    </tr>\n",
       "    <tr>\n",
       "      <th>Phones</th>\n",
       "      <td>371.211534</td>\n",
       "      <td>889</td>\n",
       "    </tr>\n",
       "    <tr>\n",
       "      <th>Storage</th>\n",
       "      <td>264.590553</td>\n",
       "      <td>846</td>\n",
       "    </tr>\n",
       "    <tr>\n",
       "      <th>Supplies</th>\n",
       "      <td>245.650200</td>\n",
       "      <td>190</td>\n",
       "    </tr>\n",
       "    <tr>\n",
       "      <th>Tables</th>\n",
       "      <td>648.794771</td>\n",
       "      <td>319</td>\n",
       "    </tr>\n",
       "  </tbody>\n",
       "</table>\n",
       "</div>"
      ],
      "text/plain": [
       "                    Sales  Profit\n",
       "Sub-Category                     \n",
       "Accessories    215.974604     775\n",
       "Appliances     230.755710     466\n",
       "Art             34.068834     796\n",
       "Binders        133.560560    1523\n",
       "Bookcases      503.859633     228\n",
       "Chairs         532.332420     617\n",
       "Copiers       2198.941618      68\n",
       "Envelopes       64.867724     254\n",
       "Fasteners       13.936774     217\n",
       "Furnishings     95.825668     957\n",
       "Labels          34.303055     364\n",
       "Machines      1645.553313     115\n",
       "Paper           57.284092    1370\n",
       "Phones         371.211534     889\n",
       "Storage        264.590553     846\n",
       "Supplies       245.650200     190\n",
       "Tables         648.794771     319"
      ]
     },
     "execution_count": 5,
     "metadata": {},
     "output_type": "execute_result"
    }
   ],
   "source": [
    "data.groupby('Sub-Category').agg({'Sales':'mean','Profit':'count'})"
   ]
  },
  {
   "cell_type": "code",
   "execution_count": 6,
   "metadata": {
    "scrolled": true
   },
   "outputs": [],
   "source": [
    "appSalesData=data[data['Sub-Category']=='Appliances']['Sales'].values"
   ]
  },
  {
   "cell_type": "code",
   "execution_count": 7,
   "metadata": {},
   "outputs": [],
   "source": [
    "accSalesData=data[data['Sub-Category']=='Accessories']['Sales'].values"
   ]
  },
  {
   "cell_type": "code",
   "execution_count": 8,
   "metadata": {},
   "outputs": [],
   "source": [
    "sampleofAppSalesData=appSalesData[np.argsort(np.random.random_sample(len(appSalesData)))[:70]]"
   ]
  },
  {
   "cell_type": "code",
   "execution_count": 9,
   "metadata": {},
   "outputs": [],
   "source": [
    "sampleofAccSalesData=accSalesData[np.argsort(np.random.random_sample(len(accSalesData)))[:70]]"
   ]
  },
  {
   "cell_type": "code",
   "execution_count": 10,
   "metadata": {},
   "outputs": [
    {
     "data": {
      "text/plain": [
       "array([6.06900e+01, 3.52080e+01, 9.78400e+01, 1.55600e+01, 5.20000e+00,\n",
       "       3.33056e+02, 3.87136e+02, 3.76800e+01, 6.78400e+01, 6.38730e+02,\n",
       "       1.11760e+01, 6.99200e+00, 8.45728e+02, 9.42784e+02, 2.39400e+00,\n",
       "       1.06960e+02, 4.00800e+02, 7.78000e+00, 1.74800e+01, 4.31000e+01,\n",
       "       4.63248e+02, 1.57920e+02, 4.35600e+00, 1.77980e+02, 1.31100e+01,\n",
       "       4.05400e+01, 3.56790e+02, 7.61200e+01, 2.59600e+01, 1.43360e+01,\n",
       "       6.43840e+01, 5.66500e+01, 4.35600e+01, 1.03920e+02, 5.76800e+00,\n",
       "       1.24586e+03, 8.10800e+01, 3.76740e+02, 1.79200e+01, 1.29920e+01,\n",
       "       2.50260e+02, 1.55600e+00, 2.09300e+02, 1.52940e+02, 1.52940e+02,\n",
       "       2.70720e+02, 1.13920e+02, 3.89056e+02, 1.50325e+03, 5.76800e+01,\n",
       "       2.60000e+00, 6.09840e+01, 4.87920e+01, 9.30320e+01, 2.61360e+01,\n",
       "       4.83600e+00, 1.39700e+01, 1.87200e+01, 2.35950e+02, 1.92416e+03,\n",
       "       2.80800e+01, 3.94816e+02, 3.39900e+01, 1.67040e+01, 3.24320e+01,\n",
       "       4.47696e+02, 4.32600e+01, 8.71200e+00, 3.55200e+00, 3.62940e+02])"
      ]
     },
     "execution_count": 10,
     "metadata": {},
     "output_type": "execute_result"
    }
   ],
   "source": [
    "sampleofAppSalesData"
   ]
  },
  {
   "cell_type": "code",
   "execution_count": 11,
   "metadata": {},
   "outputs": [
    {
     "data": {
      "text/plain": [
       "array([1.50200e+01, 4.19400e+01, 2.59980e+02, 9.90000e-01, 3.98160e+01,\n",
       "       9.81600e+01, 1.13970e+02, 9.93900e+01, 1.11930e+02, 2.39970e+02,\n",
       "       7.92000e+00, 6.39600e+01, 5.43840e+01, 4.50000e+01, 7.50000e+01,\n",
       "       2.37600e+00, 2.24991e+03, 9.99900e+01, 1.43730e+02, 1.91976e+02,\n",
       "       4.77900e+01, 7.99840e+01, 1.06500e+02, 1.01268e+03, 1.52160e+01,\n",
       "       2.47800e+02, 4.74960e+01, 1.00000e+02, 4.79970e+02, 5.27920e+02,\n",
       "       9.99800e+01, 1.19980e+02, 1.90400e+01, 1.29900e+01, 1.70240e+02,\n",
       "       9.99900e+01, 1.64995e+03, 3.99840e+01, 9.59840e+01, 4.31928e+02,\n",
       "       4.79700e+01, 1.69064e+02, 3.90000e+01, 5.99700e+01, 2.99970e+02,\n",
       "       4.17200e+01, 1.31996e+03, 1.20000e+02, 4.79940e+02, 2.76000e+01,\n",
       "       3.31800e+01, 9.99800e+01, 7.20000e+01, 1.04970e+02, 7.19760e+01,\n",
       "       5.00000e+01, 4.99800e+01, 4.47930e+02, 8.71680e+01, 4.08744e+02,\n",
       "       2.54970e+02, 5.32500e+01, 5.99900e+02, 2.88000e+02, 1.03840e+01,\n",
       "       3.83952e+02, 8.52000e+01, 2.03700e+01, 1.96752e+02, 5.85800e+01])"
      ]
     },
     "execution_count": 11,
     "metadata": {},
     "output_type": "execute_result"
    }
   ],
   "source": [
    "sampleofAccSalesData"
   ]
  },
  {
   "cell_type": "markdown",
   "metadata": {},
   "source": [
    "### statistics of 2 example"
   ]
  },
  {
   "cell_type": "markdown",
   "metadata": {},
   "source": [
    "### Steps of hypothesis testing"
   ]
  },
  {
   "cell_type": "markdown",
   "metadata": {},
   "source": [
    "- step 1: create the hypothesis (Null and Alternate Hypothesis)\n",
    "- Step 2: Appropriate statistical test\n",
    "- step 3: let set $\\alpha$ as .001  area of rejection   z score will be two sided test  critical z value 3.09\n",
    "- step 4: Get data\n",
    "- Step 5: Analyze "
   ]
  },
  {
   "cell_type": "markdown",
   "metadata": {},
   "source": [
    "our hypothesis > $$H_{o} => \\mu_{1} - \\mu_{2} = 0$$   \n",
    "$$H_{a} => \\mu_{1} - \\mu_{2} \\ne 0$$  "
   ]
  },
  {
   "cell_type": "code",
   "execution_count": 12,
   "metadata": {},
   "outputs": [],
   "source": [
    "varianceofPopApp=np.var(appSalesData)\n",
    "varianceofPopAcc=np.var(accSalesData)\n",
    "\n",
    "meanOfSampApp=np.mean(sampleofAppSalesData)\n",
    "meanOfSampAcc=np.mean(sampleofAccSalesData)\n",
    "\n",
    "n1=70\n",
    "n2=70"
   ]
  },
  {
   "cell_type": "markdown",
   "metadata": {},
   "source": [
    " $$z = \\frac{(\\bar{x_{1}}-\\bar{x_{2}})-(\\mu_{1}-\\mu_{2})}{\\sqrt(\\frac{\\sigma^2}{n1}+\\frac{\\sigma^2}{n2})}$$"
   ]
  },
  {
   "cell_type": "code",
   "execution_count": 13,
   "metadata": {},
   "outputs": [
    {
     "data": {
      "text/plain": [
       "-14.813742857142842"
      ]
     },
     "execution_count": 13,
     "metadata": {},
     "output_type": "execute_result"
    }
   ],
   "source": [
    "import math\n",
    "(meanOfSampApp-meanOfSampAcc) - (0) / (math.sqrt((varianceofPopApp/70)+(varianceofPopAcc/70)))"
   ]
  },
  {
   "cell_type": "markdown",
   "metadata": {},
   "source": [
    "## 39.66 > 3.09 reject the null hypothesis"
   ]
  },
  {
   "cell_type": "markdown",
   "metadata": {},
   "source": [
    "## Confidence interval estimation"
   ]
  },
  {
   "cell_type": "markdown",
   "metadata": {},
   "source": [
    "lets take the same problem but in different perspective"
   ]
  },
  {
   "cell_type": "code",
   "execution_count": 14,
   "metadata": {},
   "outputs": [],
   "source": [
    "z=3.09"
   ]
  },
  {
   "cell_type": "markdown",
   "metadata": {},
   "source": [
    " $$(\\bar{x_{1}}-\\bar{x_{2}}) -z(\\sqrt(\\frac{\\sigma^2}{n1}+\\frac{\\sigma^2}{n2}) \\space\\space\\space \\underline{<} \\mu_{1}-\\mu_{2} \\space\\space\\space\\space \\underline{<} \\space\\space\\space (\\bar{x_{1}}-\\bar{x_{2}}) -z(\\sqrt(\\frac{\\sigma^2}{n1}+\\frac{\\sigma^2}{n2})$$"
   ]
  },
  {
   "cell_type": "code",
   "execution_count": 15,
   "metadata": {},
   "outputs": [
    {
     "data": {
      "text/plain": [
       "'-204.22198284277383 <= mu1 - mu2 <= 174.59449712848814'"
      ]
     },
     "execution_count": 15,
     "metadata": {},
     "output_type": "execute_result"
    }
   ],
   "source": [
    "'{} <= mu1 - mu2 <= {}'.format((meanOfSampApp-meanOfSampAcc)- z*(math.sqrt((varianceofPopApp/70)+(varianceofPopAcc/70))) ,(meanOfSampApp-meanOfSampAcc)+ z*(math.sqrt((varianceofPopApp/70)+(varianceofPopAcc/70))) )"
   ]
  },
  {
   "cell_type": "code",
   "execution_count": 16,
   "metadata": {},
   "outputs": [],
   "source": [
    "z=1.98"
   ]
  },
  {
   "cell_type": "code",
   "execution_count": 17,
   "metadata": {},
   "outputs": [
    {
     "data": {
      "text/plain": [
       "'-136.18212964405203 <= mu1 - mu2 <= 106.55464392976634'"
      ]
     },
     "execution_count": 17,
     "metadata": {},
     "output_type": "execute_result"
    }
   ],
   "source": [
    "'{} <= mu1 - mu2 <= {}'.format((meanOfSampApp-meanOfSampAcc)- z*(math.sqrt((varianceofPopApp/70)+(varianceofPopAcc/70))) ,(meanOfSampApp-meanOfSampAcc)+ z*(math.sqrt((varianceofPopApp/70)+(varianceofPopAcc/70))) )"
   ]
  },
  {
   "cell_type": "markdown",
   "metadata": {},
   "source": [
    "#### the 0 falls in between hence there is a chance to get no difference in the mean of 2 categories"
   ]
  },
  {
   "cell_type": "markdown",
   "metadata": {},
   "source": [
    "## If we do not have info about the Populations"
   ]
  },
  {
   "cell_type": "markdown",
   "metadata": {},
   "source": [
    "## t-Test for inference about 2 populations"
   ]
  },
  {
   "cell_type": "code",
   "execution_count": 18,
   "metadata": {},
   "outputs": [],
   "source": [
    "import scipy.stats as st"
   ]
  },
  {
   "cell_type": "markdown",
   "metadata": {},
   "source": [
    "## st.ttest_ind\n",
    "\n",
    "This is a two-sided test for the null hypothesis that 2 independent samples\n",
    "have identical average (expected) values. This test assumes that the\n",
    "populations have identical variances by default\n",
    "\n",
    "- a, b : array_like\n",
    "    The arrays must have the same shape, except in the dimension\n",
    "    corresponding to `axis` (the first, by default).\n",
    "- axis : int or None, optional\n",
    "    Axis along which to compute test. If None, compute over the whole\n",
    "    arrays, `a`, and `b`.\n",
    "- equal_var : bool, optional\n",
    "    If True (default), perform a standard independent 2 sample test\n",
    "    that assumes equal population variances \n",
    "    If False, perform Welch's t-test, which does not assume equal\n",
    "    population variance \n",
    "- nan_policy : {'propagate', 'raise', 'omit'}, optional\n",
    "    Defines how to handle when input contains nan. 'propagate' returns nan,\n",
    "    'raise' throws an error, 'omit' performs the calculations ignoring nan\n",
    "    values. Default is 'propagate'.\n"
   ]
  },
  {
   "cell_type": "code",
   "execution_count": 19,
   "metadata": {},
   "outputs": [
    {
     "data": {
      "text/plain": [
       "Ttest_indResult(statistic=0.24002760391540018, pvalue=0.810666571411287)"
      ]
     },
     "execution_count": 19,
     "metadata": {},
     "output_type": "execute_result"
    }
   ],
   "source": [
    "st.ttest_ind(sampleofAccSalesData,sampleofAppSalesData,equal_var=False)  #at aplha =.05 (default)"
   ]
  },
  {
   "cell_type": "markdown",
   "metadata": {},
   "source": [
    "### Fail to  Reject the Null Hypothesis"
   ]
  },
  {
   "cell_type": "markdown",
   "metadata": {},
   "source": [
    "## st.ttest_ind_from_stats\n",
    "\n",
    "T-test for means of two independent samples from descriptive statistics.\n",
    "\n",
    "This is a two-sided test for the null hypothesis that two independent samples have identical average (expected) values.\n",
    "\n",
    "- mean1 : array_like\n",
    "    The mean(s) of sample 1.\n",
    "- std1 : array_like\n",
    "    The standard deviation(s) of sample 1.\n",
    "- nobs1 : array_like\n",
    "    The number(s) of observations of sample 1.\n",
    "- mean2 : array_like\n",
    "    The mean(s) of sample 2\n",
    "- std2 : array_like\n",
    "    The standard deviations(s) of sample 2.\n",
    "- nobs2 : array_like\n",
    "    The number(s) of observations of sample 2.\n",
    "- equal_var : bool, optional\n",
    "    If True (default), perform a standard independent 2 sample test\n",
    "    that assumes equal population variances\n",
    "    If False, perform Welch's t-test, which does not assume equal\n",
    "    population variance"
   ]
  },
  {
   "cell_type": "code",
   "execution_count": 20,
   "metadata": {},
   "outputs": [],
   "source": [
    "mean1=sampleofAccSalesData.mean()\n",
    "std1=sampleofAccSalesData.std()\n",
    "nob1=len(sampleofAccSalesData)\n",
    "mean2=sampleofAppSalesData.mean()\n",
    "std2=sampleofAppSalesData.var()\n",
    "nob2=len(sampleofAppSalesData)"
   ]
  },
  {
   "cell_type": "code",
   "execution_count": 21,
   "metadata": {},
   "outputs": [
    {
     "data": {
      "text/plain": [
       "Ttest_indResult(statistic=0.0010095398730472292, pvalue=0.9991959617580164)"
      ]
     },
     "execution_count": 21,
     "metadata": {},
     "output_type": "execute_result"
    }
   ],
   "source": [
    "st.ttest_ind_from_stats(mean1,\n",
    "    std1,\n",
    "    nob1,\n",
    "    mean2,\n",
    "    std2,\n",
    "    nob2,)"
   ]
  },
  {
   "cell_type": "code",
   "execution_count": null,
   "metadata": {},
   "outputs": [],
   "source": []
  }
 ],
 "metadata": {
  "kernelspec": {
   "display_name": "Python 3 (ipykernel)",
   "language": "python",
   "name": "python3"
  },
  "language_info": {
   "codemirror_mode": {
    "name": "ipython",
    "version": 3
   },
   "file_extension": ".py",
   "mimetype": "text/x-python",
   "name": "python",
   "nbconvert_exporter": "python",
   "pygments_lexer": "ipython3",
   "version": "3.9.13"
  }
 },
 "nbformat": 4,
 "nbformat_minor": 4
}
